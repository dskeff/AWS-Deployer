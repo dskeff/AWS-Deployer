{
  "nbformat": 4,
  "nbformat_minor": 0,
  "metadata": {
    "kernelspec": {
      "display_name": "Python",
      "language": "python",
      "name": "conda-env-python-py"
    },
    "language_info": {
      "codemirror_mode": {
        "name": "ipython",
        "version": 3
      },
      "file_extension": ".py",
      "mimetype": "text/x-python",
      "name": "python",
      "nbconvert_exporter": "python",
      "pygments_lexer": "ipython3",
      "version": "3.6.7"
    },
    "colab": {
      "name": "Module 1 - Python Basics.ipynb",
      "provenance": [],
      "include_colab_link": true
    }
  },
  "cells": [
    {
      "cell_type": "markdown",
      "metadata": {
        "id": "view-in-github",
        "colab_type": "text"
      },
      "source": [
        "<a href=\"https://colab.research.google.com/github/dskeff/AWS-Deployer/blob/master/Module_1_Python_Basics.ipynb\" target=\"_parent\"><img src=\"https://colab.research.google.com/assets/colab-badge.svg\" alt=\"Open In Colab\"/></a>"
      ]
    },
    {
      "cell_type": "markdown",
      "metadata": {
        "id": "eIZpvkgiVL9H",
        "colab_type": "text"
      },
      "source": [
        "# <b>Module 1 - Python Basics</b> (2019-Sep-28)"
      ]
    },
    {
      "cell_type": "markdown",
      "metadata": {
        "id": "RB12xUHnVL9M",
        "colab_type": "text"
      },
      "source": [
        "### print \"Hello Python 101\" program, using double quotes"
      ]
    },
    {
      "cell_type": "code",
      "metadata": {
        "id": "0voo1z5JVL9P",
        "colab_type": "code",
        "colab": {},
        "outputId": "7aa6d6c9-4833-453f-ce83-8ecdcc3ee7b5"
      },
      "source": [
        "print(\"Hello Python 101\");"
      ],
      "execution_count": 0,
      "outputs": [
        {
          "output_type": "stream",
          "text": [
            "Hello Python 101\n"
          ],
          "name": "stdout"
        }
      ]
    },
    {
      "cell_type": "markdown",
      "metadata": {
        "id": "ZAMl_At1VL9b",
        "colab_type": "text"
      },
      "source": [
        "### print \"Hello Python 101\" program, using simple quotes"
      ]
    },
    {
      "cell_type": "code",
      "metadata": {
        "id": "To1lL_BhVL9d",
        "colab_type": "code",
        "colab": {},
        "outputId": "f2de8b40-f47b-434c-8401-c0372d7041f3"
      },
      "source": [
        "print('Hello Python 101');"
      ],
      "execution_count": 0,
      "outputs": [
        {
          "output_type": "stream",
          "text": [
            "Hello Python 101\n"
          ],
          "name": "stdout"
        }
      ]
    },
    {
      "cell_type": "markdown",
      "metadata": {
        "id": "i0dXbmDHVL9j",
        "colab_type": "text"
      },
      "source": [
        "### print \"Hellon\\Python!\" program, using "
      ]
    },
    {
      "cell_type": "code",
      "metadata": {
        "id": "LfWTZtQRVL9m",
        "colab_type": "code",
        "colab": {},
        "outputId": "7220fa2c-154c-4ad8-8e1f-91e1e6081bd8"
      },
      "source": [
        "print(\"Hello\\nPython!\");"
      ],
      "execution_count": 0,
      "outputs": [
        {
          "output_type": "stream",
          "text": [
            "Hello\n",
            "Python!\n"
          ],
          "name": "stdout"
        }
      ]
    },
    {
      "cell_type": "code",
      "metadata": {
        "id": "B5k-HwzYVL9t",
        "colab_type": "code",
        "colab": {}
      },
      "source": [
        "# This is a mark of comment in the code # print(\"Hellon\\Python!\")  "
      ],
      "execution_count": 0,
      "outputs": []
    },
    {
      "cell_type": "code",
      "metadata": {
        "id": "mNRqF7EDVL9y",
        "colab_type": "code",
        "colab": {}
      },
      "source": [
        "# print('Hello World!')"
      ],
      "execution_count": 0,
      "outputs": []
    },
    {
      "cell_type": "markdown",
      "metadata": {
        "id": "BBK7c3J2VL94",
        "colab_type": "text"
      },
      "source": [
        "### Types in Python"
      ]
    },
    {
      "cell_type": "code",
      "metadata": {
        "id": "pWzUNJkyVL97",
        "colab_type": "code",
        "colab": {},
        "outputId": "595d3797-e9cf-4e7f-cc53-3a927d7c2aab"
      },
      "source": [
        "print(type(11));"
      ],
      "execution_count": 0,
      "outputs": [
        {
          "output_type": "stream",
          "text": [
            "<class 'int'>\n"
          ],
          "name": "stdout"
        }
      ]
    },
    {
      "cell_type": "code",
      "metadata": {
        "id": "GE3B9S3pVL-D",
        "colab_type": "code",
        "colab": {},
        "outputId": "7e56c559-d6ea-402c-9574-c8398459dab2"
      },
      "source": [
        "print(type(22.20));"
      ],
      "execution_count": 0,
      "outputs": [
        {
          "output_type": "stream",
          "text": [
            "<class 'float'>\n"
          ],
          "name": "stdout"
        }
      ]
    },
    {
      "cell_type": "code",
      "metadata": {
        "id": "q64TFgSfVL-J",
        "colab_type": "code",
        "colab": {},
        "outputId": "ba0e6ce3-98d2-405b-c031-8e90e0b20761"
      },
      "source": [
        "print(type(\"Hello Python\"));"
      ],
      "execution_count": 0,
      "outputs": [
        {
          "output_type": "stream",
          "text": [
            "<class 'str'>\n"
          ],
          "name": "stdout"
        }
      ]
    },
    {
      "cell_type": "code",
      "metadata": {
        "id": "oAE7kB1gVL-S",
        "colab_type": "code",
        "colab": {},
        "outputId": "be9b7f6c-f740-4ca1-d62c-e176a6eaee80"
      },
      "source": [
        "print(type(True));"
      ],
      "execution_count": 0,
      "outputs": [
        {
          "output_type": "stream",
          "text": [
            "<class 'bool'>\n"
          ],
          "name": "stdout"
        }
      ]
    },
    {
      "cell_type": "markdown",
      "metadata": {
        "id": "TcYcBufuVL-e",
        "colab_type": "text"
      },
      "source": [
        "### Type Casting in Python"
      ]
    },
    {
      "cell_type": "code",
      "metadata": {
        "id": "VoEUJyuoVL-g",
        "colab_type": "code",
        "colab": {},
        "outputId": "36b6616c-ef2b-4b08-b82e-4cd9a8f625de"
      },
      "source": [
        "print(float(2)); # converting int to float"
      ],
      "execution_count": 0,
      "outputs": [
        {
          "output_type": "stream",
          "text": [
            "2.0\n"
          ],
          "name": "stdout"
        }
      ]
    },
    {
      "cell_type": "code",
      "metadata": {
        "id": "0-ooNuIPVL-k",
        "colab_type": "code",
        "colab": {},
        "outputId": "d3b068e0-3d0f-4b4b-ff9b-5c8a28ad0813"
      },
      "source": [
        "print(int(1.1)); # converting float to int"
      ],
      "execution_count": 0,
      "outputs": [
        {
          "output_type": "stream",
          "text": [
            "1\n"
          ],
          "name": "stdout"
        }
      ]
    },
    {
      "cell_type": "code",
      "metadata": {
        "id": "TrzHf4pTVL-q",
        "colab_type": "code",
        "colab": {},
        "outputId": "65a36a31-30ce-4995-a88f-5d04608b7c1e"
      },
      "source": [
        "print(int('1')); # converting str to int"
      ],
      "execution_count": 0,
      "outputs": [
        {
          "output_type": "stream",
          "text": [
            "1\n"
          ],
          "name": "stdout"
        }
      ]
    },
    {
      "cell_type": "code",
      "metadata": {
        "id": "ES7xoLS_VL-x",
        "colab_type": "code",
        "colab": {},
        "outputId": "d6ba9071-3ad2-4239-c677-e29f14809a32"
      },
      "source": [
        "print(int('A')); # converting str letter to int... will got an error like following"
      ],
      "execution_count": 0,
      "outputs": [
        {
          "output_type": "error",
          "ename": "ValueError",
          "evalue": "invalid literal for int() with base 10: 'A'",
          "traceback": [
            "\u001b[0;31m---------------------------------------------------------------------------\u001b[0m",
            "\u001b[0;31mValueError\u001b[0m                                Traceback (most recent call last)",
            "\u001b[0;32m<ipython-input-23-53fc16960dec>\u001b[0m in \u001b[0;36m<module>\u001b[0;34m\u001b[0m\n\u001b[0;32m----> 1\u001b[0;31m \u001b[0mprint\u001b[0m\u001b[0;34m(\u001b[0m\u001b[0mint\u001b[0m\u001b[0;34m(\u001b[0m\u001b[0;34m'A'\u001b[0m\u001b[0;34m)\u001b[0m\u001b[0;34m)\u001b[0m\u001b[0;34m;\u001b[0m \u001b[0;31m# converting str letter to int... will got an error like following\u001b[0m\u001b[0;34m\u001b[0m\u001b[0;34m\u001b[0m\u001b[0m\n\u001b[0m",
            "\u001b[0;31mValueError\u001b[0m: invalid literal for int() with base 10: 'A'"
          ]
        }
      ]
    },
    {
      "cell_type": "code",
      "metadata": {
        "id": "Uy-tcHxHVL-2",
        "colab_type": "code",
        "colab": {}
      },
      "source": [
        "print(\"este int \" + str(1) + \" é uma string\"); # converting int to str"
      ],
      "execution_count": 0,
      "outputs": []
    },
    {
      "cell_type": "code",
      "metadata": {
        "id": "EXsytG2WVL-6",
        "colab_type": "code",
        "colab": {}
      },
      "source": [
        "print(\"este bool \" + str(4.5) + \" é uma string\"); # converting bool to str"
      ],
      "execution_count": 0,
      "outputs": []
    },
    {
      "cell_type": "code",
      "metadata": {
        "id": "G618uIY4VL-9",
        "colab_type": "code",
        "colab": {}
      },
      "source": [
        "print(int(True)); # converting bool to int"
      ],
      "execution_count": 0,
      "outputs": []
    },
    {
      "cell_type": "code",
      "metadata": {
        "id": "giOETX8uVL_B",
        "colab_type": "code",
        "colab": {},
        "outputId": "97c0c537-2629-4746-9a1e-76bb5537918b"
      },
      "source": [
        "print(int(False)); # converting bool to int"
      ],
      "execution_count": 0,
      "outputs": [
        {
          "output_type": "stream",
          "text": [
            "0\n"
          ],
          "name": "stdout"
        }
      ]
    },
    {
      "cell_type": "code",
      "metadata": {
        "id": "3azgOwH4VL_L",
        "colab_type": "code",
        "colab": {},
        "outputId": "63f74e57-c037-4c46-eafd-f9a9498301da"
      },
      "source": [
        "print(bool(1)); # converting int to bool"
      ],
      "execution_count": 0,
      "outputs": [
        {
          "output_type": "stream",
          "text": [
            "True\n"
          ],
          "name": "stdout"
        }
      ]
    },
    {
      "cell_type": "code",
      "metadata": {
        "id": "fOryKWw5VL_R",
        "colab_type": "code",
        "colab": {},
        "outputId": "03bee57d-f51d-4ced-d687-95b1981ed690"
      },
      "source": [
        "print(bool(0)); # converting int to bool"
      ],
      "execution_count": 0,
      "outputs": [
        {
          "output_type": "stream",
          "text": [
            "False\n"
          ],
          "name": "stdout"
        }
      ]
    },
    {
      "cell_type": "code",
      "metadata": {
        "id": "sDrkErfpVL_Y",
        "colab_type": "code",
        "colab": {},
        "outputId": "85f22bbe-b842-47dc-f1e0-08e58b187457"
      },
      "source": [
        "print(type(int(1.0)));"
      ],
      "execution_count": 0,
      "outputs": [
        {
          "output_type": "stream",
          "text": [
            "<class 'int'>\n"
          ],
          "name": "stdout"
        }
      ]
    },
    {
      "cell_type": "markdown",
      "metadata": {
        "id": "SoOxERMyVL_c",
        "colab_type": "text"
      },
      "source": [
        "### Expressions"
      ]
    },
    {
      "cell_type": "code",
      "metadata": {
        "id": "WimFdyVMVL_e",
        "colab_type": "code",
        "colab": {},
        "outputId": "a17a27e6-a4e3-4824-f4d8-618263ab1eb8"
      },
      "source": [
        "print(10+20+30+40+50);"
      ],
      "execution_count": 0,
      "outputs": [
        {
          "output_type": "stream",
          "text": [
            "150\n"
          ],
          "name": "stdout"
        }
      ]
    },
    {
      "cell_type": "code",
      "metadata": {
        "id": "oDx8iqefVL_p",
        "colab_type": "code",
        "colab": {},
        "outputId": "0dc3e2fe-cd63-4754-dd09-3dd3a2eb4912"
      },
      "source": [
        "print (10+10*10);"
      ],
      "execution_count": 0,
      "outputs": [
        {
          "output_type": "stream",
          "text": [
            "110\n"
          ],
          "name": "stdout"
        }
      ]
    },
    {
      "cell_type": "code",
      "metadata": {
        "id": "RsWOwAJgVL_2",
        "colab_type": "code",
        "colab": {},
        "outputId": "61211660-8b90-4c8c-8957-2e5af9e9373c"
      },
      "source": [
        "print((10+10)*10);"
      ],
      "execution_count": 0,
      "outputs": [
        {
          "output_type": "stream",
          "text": [
            "200\n"
          ],
          "name": "stdout"
        }
      ]
    },
    {
      "cell_type": "code",
      "metadata": {
        "id": "lT2mi2_DVL_8",
        "colab_type": "code",
        "colab": {},
        "outputId": "e897d8bc-18ac-4ac0-f2a0-9c7fc874632e"
      },
      "source": [
        "print(10+(10*10));"
      ],
      "execution_count": 0,
      "outputs": [
        {
          "output_type": "stream",
          "text": [
            "110\n"
          ],
          "name": "stdout"
        }
      ]
    },
    {
      "cell_type": "markdown",
      "metadata": {
        "id": "7f7uKXxSVL__",
        "colab_type": "text"
      },
      "source": [
        "### Variables"
      ]
    },
    {
      "cell_type": "code",
      "metadata": {
        "id": "E9A9fgjQVMAA",
        "colab_type": "code",
        "colab": {},
        "outputId": "6ce02db9-e768-45ca-fc81-4a2869233ec0"
      },
      "source": [
        "my_variable=1;\n",
        "print(my_variable);\n",
        "print(type(my_variable));"
      ],
      "execution_count": 0,
      "outputs": [
        {
          "output_type": "stream",
          "text": [
            "1\n",
            "<class 'int'>\n"
          ],
          "name": "stdout"
        }
      ]
    },
    {
      "cell_type": "code",
      "metadata": {
        "id": "jYz6TPlaVMAD",
        "colab_type": "code",
        "colab": {},
        "outputId": "7d57a3b3-131b-4532-d4d7-49ac136eb97e"
      },
      "source": [
        "x=10+20+30+40+50\n",
        "print(x);"
      ],
      "execution_count": 0,
      "outputs": [
        {
          "output_type": "stream",
          "text": [
            "150\n"
          ],
          "name": "stdout"
        }
      ]
    },
    {
      "cell_type": "code",
      "metadata": {
        "id": "3v3RiynaVMAM",
        "colab_type": "code",
        "colab": {},
        "outputId": "d12210e2-b9df-4e61-8df4-a885d3d193d5"
      },
      "source": [
        "x=150\n",
        "y=x/4\n",
        "print(\"x =\",x);\n",
        "print(\"x é do tipo\",type(x));\n",
        "print(\"y =\", y);\n",
        "print(\"y é do tipo\", type(y));"
      ],
      "execution_count": 0,
      "outputs": [
        {
          "output_type": "stream",
          "text": [
            "x = 150\n",
            "x é do tipo <class 'int'>\n",
            "y = 37.5\n",
            "y é do tipo <class 'float'>\n"
          ],
          "name": "stdout"
        }
      ]
    },
    {
      "cell_type": "code",
      "metadata": {
        "id": "a1x-dg16VMAQ",
        "colab_type": "code",
        "colab": {},
        "outputId": "9529cf4b-b571-43d9-fb11-0c3524ff093c"
      },
      "source": [
        "x=150\n",
        "z=x//4\n",
        "print(x);\n",
        "print(type(x));\n",
        "print(z);\n",
        "print(type(z));"
      ],
      "execution_count": 0,
      "outputs": [
        {
          "output_type": "stream",
          "text": [
            "150\n",
            "<class 'int'>\n",
            "37\n",
            "<class 'int'>\n"
          ],
          "name": "stdout"
        }
      ]
    },
    {
      "cell_type": "code",
      "metadata": {
        "id": "P4XxmDhEVMAS",
        "colab_type": "code",
        "colab": {},
        "outputId": "65ee1791-6806-4754-d494-050d14296be6"
      },
      "source": [
        "x=150\n",
        "print(type(x));\n",
        "x=x/4\n",
        "print(type(x));"
      ],
      "execution_count": 0,
      "outputs": [
        {
          "output_type": "stream",
          "text": [
            "<class 'int'>\n",
            "<class 'float'>\n"
          ],
          "name": "stdout"
        }
      ]
    },
    {
      "cell_type": "markdown",
      "metadata": {
        "id": "uMsIX_AqVMAV",
        "colab_type": "text"
      },
      "source": [
        "### Arrays"
      ]
    },
    {
      "cell_type": "code",
      "metadata": {
        "id": "jMGUSh19VMAW",
        "colab_type": "code",
        "colab": {},
        "outputId": "276f357c-365b-4d9c-8516-748e57c2a2f1"
      },
      "source": [
        "Numbers=\"0123456\"\n",
        "Numbers[::2]"
      ],
      "execution_count": 0,
      "outputs": [
        {
          "output_type": "execute_result",
          "data": {
            "text/plain": [
              "'0246'"
            ]
          },
          "metadata": {
            "tags": []
          },
          "execution_count": 37
        }
      ]
    },
    {
      "cell_type": "code",
      "metadata": {
        "id": "idh7GceaVMAb",
        "colab_type": "code",
        "colab": {},
        "outputId": "9ddebd50-7cce-4b30-9d5f-5f1d6070ed95"
      },
      "source": [
        "\"0123456\".find('1');\n",
        "print(\"0123456\".find('1'));"
      ],
      "execution_count": 0,
      "outputs": [
        {
          "output_type": "stream",
          "text": [
            "1\n"
          ],
          "name": "stdout"
        }
      ]
    },
    {
      "cell_type": "code",
      "metadata": {
        "id": "f3RLpDSHVMAd",
        "colab_type": "code",
        "colab": {},
        "outputId": "2a907a62-8c16-4256-af5d-d8859e0d275e"
      },
      "source": [
        "Numbers=\"0123456\"\n",
        "Numbers.find('1');\n",
        "print(Numbers.find('1'));"
      ],
      "execution_count": 0,
      "outputs": [
        {
          "output_type": "stream",
          "text": [
            "1\n"
          ],
          "name": "stdout"
        }
      ]
    },
    {
      "cell_type": "markdown",
      "metadata": {
        "id": "sP5xlJF-VMAg",
        "colab_type": "text"
      },
      "source": [
        "### Tuples"
      ]
    },
    {
      "cell_type": "code",
      "metadata": {
        "id": "CM4eCW57VMAh",
        "colab_type": "code",
        "colab": {},
        "outputId": "05f6761a-3502-49ad-e218-a21111c328fa"
      },
      "source": [
        "Name=\"Daniel \";\n",
        "print(3*Name);"
      ],
      "execution_count": 0,
      "outputs": [
        {
          "output_type": "stream",
          "text": [
            "Daniel Daniel Daniel \n"
          ],
          "name": "stdout"
        }
      ]
    },
    {
      "cell_type": "markdown",
      "metadata": {
        "id": "Nzik1Bm7VMAl",
        "colab_type": "text"
      },
      "source": [
        "### Escapes"
      ]
    },
    {
      "cell_type": "code",
      "metadata": {
        "id": "pdvi06aZVMAm",
        "colab_type": "code",
        "colab": {},
        "outputId": "b0aa4437-069e-459d-d779-4ba0bf1f3402"
      },
      "source": [
        "print(\"Normal\", \"Daniel Skeff\");\n",
        "print(r\"\\n\", \"Daniel \\nSkeff\");\n",
        "print(r\"\\t\", \"Daniel \\tSkeff\");\n",
        "print(r\"\\\\\", \"Daniel \\\\Skeff\");\n",
        "print(r\"usnado r ''...\\...''\", r\"Daniel \\Skeff\");"
      ],
      "execution_count": 0,
      "outputs": [
        {
          "output_type": "stream",
          "text": [
            "Normal Daniel Skeff\n",
            "\\n Daniel \n",
            "Skeff\n",
            "\\t Daniel \tSkeff\n",
            "\\\\ Daniel \\Skeff\n",
            "usnado r ''...\\...'' Daniel \\Skeff\n"
          ],
          "name": "stdout"
        }
      ]
    },
    {
      "cell_type": "markdown",
      "metadata": {
        "id": "xO66c6zbVMAo",
        "colab_type": "text"
      },
      "source": [
        "### String Methods"
      ]
    },
    {
      "cell_type": "code",
      "metadata": {
        "id": "WCqQSRCBVMAp",
        "colab_type": "code",
        "colab": {},
        "outputId": "335e74aa-b5d4-4c89-a2a9-bd8a3dac3001"
      },
      "source": [
        "Name=\"Daniel Skeff\"\n",
        "print(\"Name =\", Name);\n",
        "Name=Name.upper();\n",
        "print(\"Name =\", Name);"
      ],
      "execution_count": 0,
      "outputs": [
        {
          "output_type": "stream",
          "text": [
            "Name = Daniel Skeff\n",
            "Name = DANIEL SKEFF\n"
          ],
          "name": "stdout"
        }
      ]
    },
    {
      "cell_type": "code",
      "metadata": {
        "id": "HZ6pmcPlVMAr",
        "colab_type": "code",
        "colab": {},
        "outputId": "b026d31a-6ecf-42bc-a1a0-f380e7d2eea8"
      },
      "source": [
        "Name=\"Daniel Skeff\"\n",
        "print(\"Name =\", Name);\n",
        "print(\"Skeff string starts at positioning\", Name.find(\"Skeff\"));"
      ],
      "execution_count": 0,
      "outputs": [
        {
          "output_type": "stream",
          "text": [
            "Name = Daniel Skeff\n",
            "Skeff string starts at positioning 7\n"
          ],
          "name": "stdout"
        }
      ]
    },
    {
      "cell_type": "code",
      "metadata": {
        "id": "yDEQn-5EVMAt",
        "colab_type": "code",
        "colab": {},
        "outputId": "a955b427-30bd-4dc1-ebdd-65ef2b1f1d49"
      },
      "source": [
        "Name=\"Daniel Skeff\"\n",
        "print(\"Name =\", Name);\n",
        "print(\"Schlobach string starts at positioning\", Name.find(\"Schlobach\")); # -1 returned means string not found"
      ],
      "execution_count": 0,
      "outputs": [
        {
          "output_type": "stream",
          "text": [
            "Name = Daniel Skeff\n",
            "Schlobach string starts at positioning -1\n"
          ],
          "name": "stdout"
        }
      ]
    },
    {
      "cell_type": "code",
      "metadata": {
        "id": "wNennUo_VMAx",
        "colab_type": "code",
        "colab": {},
        "outputId": "340af121-9bd7-4542-aff7-20c4d2679711"
      },
      "source": [
        "Name=\"Daniel Skeff\"\n",
        "print(\"The size of the variable \\\"Name\\\" is:\", len(Name))"
      ],
      "execution_count": 0,
      "outputs": [
        {
          "output_type": "stream",
          "text": [
            "The size of the variable \"Name\" is: 12\n"
          ],
          "name": "stdout"
        }
      ]
    },
    {
      "cell_type": "markdown",
      "metadata": {
        "id": "-TIpsUxDVMA1",
        "colab_type": "text"
      },
      "source": [
        "### Module 1 Review Questions "
      ]
    },
    {
      "cell_type": "code",
      "metadata": {
        "id": "MW7O5_IRVMA2",
        "colab_type": "code",
        "colab": {},
        "outputId": "71690319-ea4b-46b3-83d6-7d6132b478ec"
      },
      "source": [
        "# What is the result of the following operation in Python: 3 + 2 * 2 \n",
        "print(3 + 2 * 2); "
      ],
      "execution_count": 0,
      "outputs": [
        {
          "output_type": "stream",
          "text": [
            "7\n"
          ],
          "name": "stdout"
        }
      ]
    },
    {
      "cell_type": "code",
      "metadata": {
        "id": "BZDjSpdyVMA6",
        "colab_type": "code",
        "colab": {},
        "outputId": "fea92078-219a-469b-8e18-fc5486cfd236"
      },
      "source": [
        "# In Python, if you executed name = 'Lizz', what would be the output of print(name[0:2])?\n",
        "name = 'Lizz';\n",
        "print(name[0:2]);"
      ],
      "execution_count": 0,
      "outputs": [
        {
          "output_type": "stream",
          "text": [
            "Li\n"
          ],
          "name": "stdout"
        }
      ]
    },
    {
      "cell_type": "code",
      "metadata": {
        "id": "MnHPe-1rVMBB",
        "colab_type": "code",
        "colab": {},
        "outputId": "274ea36e-931d-4b5f-9a5d-e6c7cdc91c2a"
      },
      "source": [
        "# In Python, if you executed var = '01234567', what would be the result of print(var[::2])? \n",
        "var = '01234567';\n",
        "print(var[::2]);"
      ],
      "execution_count": 0,
      "outputs": [
        {
          "output_type": "stream",
          "text": [
            "0246\n"
          ],
          "name": "stdout"
        }
      ]
    },
    {
      "cell_type": "code",
      "metadata": {
        "id": "9D6sdYf4VMBD",
        "colab_type": "code",
        "colab": {},
        "outputId": "03943030-969d-4cd9-8cdc-635be3e38a44"
      },
      "source": [
        "# In Python, what is the result of the following operation '1'+'2'\n",
        "print('1'+'2');"
      ],
      "execution_count": 0,
      "outputs": [
        {
          "output_type": "stream",
          "text": [
            "12\n"
          ],
          "name": "stdout"
        }
      ]
    },
    {
      "cell_type": "code",
      "metadata": {
        "id": "iTRzHhthVMBF",
        "colab_type": "code",
        "colab": {},
        "outputId": "e05caf7f-6eaf-4293-d1d5-09ad9b15e83a"
      },
      "source": [
        "# Given myvar = 'hello', how would you convert myvar into uppercase?\n",
        "myvar = 'hello';\n",
        "print(myvar);\n",
        "myvar = myvar.upper();\n",
        "print(myvar);"
      ],
      "execution_count": 0,
      "outputs": [
        {
          "output_type": "stream",
          "text": [
            "hello\n",
            "HELLO\n"
          ],
          "name": "stdout"
        }
      ]
    },
    {
      "cell_type": "code",
      "metadata": {
        "id": "Rfod-09gVMBJ",
        "colab_type": "code",
        "colab": {}
      },
      "source": [
        ""
      ],
      "execution_count": 0,
      "outputs": []
    }
  ]
}