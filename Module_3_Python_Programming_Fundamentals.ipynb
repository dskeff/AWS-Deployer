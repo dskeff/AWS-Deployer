{
  "nbformat": 4,
  "nbformat_minor": 0,
  "metadata": {
    "kernelspec": {
      "display_name": "Python",
      "language": "python",
      "name": "conda-env-python-py"
    },
    "language_info": {
      "codemirror_mode": {
        "name": "ipython",
        "version": 3
      },
      "file_extension": ".py",
      "mimetype": "text/x-python",
      "name": "python",
      "nbconvert_exporter": "python",
      "pygments_lexer": "ipython3",
      "version": "3.6.7"
    },
    "colab": {
      "name": "Module 3 - Python Programming Fundamentals.ipynb",
      "provenance": [],
      "include_colab_link": true
    }
  },
  "cells": [
    {
      "cell_type": "markdown",
      "metadata": {
        "id": "view-in-github",
        "colab_type": "text"
      },
      "source": [
        "<a href=\"https://colab.research.google.com/github/dskeff/AWS-Deployer/blob/master/Module_3_Python_Programming_Fundamentals.ipynb\" target=\"_parent\"><img src=\"https://colab.research.google.com/assets/colab-badge.svg\" alt=\"Open In Colab\"/></a>"
      ]
    },
    {
      "cell_type": "markdown",
      "metadata": {
        "id": "gRKjt7F5VS42",
        "colab_type": "text"
      },
      "source": [
        "#  <b>Module 3 - Python Programming Fundamentals</b> (2019-Sep-30)"
      ]
    },
    {
      "cell_type": "markdown",
      "metadata": {
        "id": "hXCCWMqGVS46",
        "colab_type": "text"
      },
      "source": [
        "## Conditions and Branching"
      ]
    },
    {
      "cell_type": "markdown",
      "metadata": {
        "id": "gwCJ3eg2VS49",
        "colab_type": "text"
      },
      "source": [
        "## Loops"
      ]
    },
    {
      "cell_type": "markdown",
      "metadata": {
        "id": "huQ4ZZVTVS4_",
        "colab_type": "text"
      },
      "source": [
        "## Functions"
      ]
    },
    {
      "cell_type": "markdown",
      "metadata": {
        "id": "9SNNhnpbVS5B",
        "colab_type": "text"
      },
      "source": [
        "## Objects and Classes"
      ]
    },
    {
      "cell_type": "code",
      "metadata": {
        "id": "KcJoo49HVS5F",
        "colab_type": "code",
        "colab": {}
      },
      "source": [
        ""
      ],
      "execution_count": 0,
      "outputs": []
    }
  ]
}