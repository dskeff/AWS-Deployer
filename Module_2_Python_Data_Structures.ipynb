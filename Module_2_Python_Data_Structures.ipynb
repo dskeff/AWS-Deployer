{
  "nbformat": 4,
  "nbformat_minor": 0,
  "metadata": {
    "kernelspec": {
      "display_name": "Python",
      "language": "python",
      "name": "conda-env-python-py"
    },
    "language_info": {
      "codemirror_mode": {
        "name": "ipython",
        "version": 3
      },
      "file_extension": ".py",
      "mimetype": "text/x-python",
      "name": "python",
      "nbconvert_exporter": "python",
      "pygments_lexer": "ipython3",
      "version": "3.6.7"
    },
    "colab": {
      "name": "Module 2 - Python Data Structures.ipynb",
      "provenance": [],
      "include_colab_link": true
    }
  },
  "cells": [
    {
      "cell_type": "markdown",
      "metadata": {
        "id": "view-in-github",
        "colab_type": "text"
      },
      "source": [
        "<a href=\"https://colab.research.google.com/github/dskeff/AWS-Deployer/blob/master/Module_2_Python_Data_Structures.ipynb\" target=\"_parent\"><img src=\"https://colab.research.google.com/assets/colab-badge.svg\" alt=\"Open In Colab\"/></a>"
      ]
    },
    {
      "cell_type": "markdown",
      "metadata": {
        "id": "z-M2ogqUVN8z",
        "colab_type": "text"
      },
      "source": [
        "# <b>Module 2 - Python Data Structures</b> (2019-Sep-29)"
      ]
    },
    {
      "cell_type": "markdown",
      "metadata": {
        "id": "TBs-9wczVN83",
        "colab_type": "text"
      },
      "source": [
        "## Lists and Tuples "
      ]
    },
    {
      "cell_type": "markdown",
      "metadata": {
        "id": "wVjiHZ8GVN85",
        "colab_type": "text"
      },
      "source": [
        "### Tuples"
      ]
    },
    {
      "cell_type": "markdown",
      "metadata": {
        "id": "9dHflko_VN88",
        "colab_type": "text"
      },
      "source": [
        "<ul style=\"list-style-type:circle;\">\n",
        "  <li>tuples are an ordered sequence</li>\n",
        "  <li>tuples are written as comma-separated elements withn parentheses</li>\n",
        "  <li>tuples are immutable</li>\n",
        "  <li>tuples can ber sorted</li>\n",
        "  <li>tuples can nesting other tuples</li>\n",
        "</ul> "
      ]
    },
    {
      "cell_type": "code",
      "metadata": {
        "id": "RZV81e3PVN8-",
        "colab_type": "code",
        "colab": {},
        "outputId": "5159efbb-0b47-49d5-ad56-3ad36918a2b0"
      },
      "source": [
        "Ratings=(10,9,6,5,10,8,9,6,2);\n",
        "print(\"Ratings:\", Ratings);"
      ],
      "execution_count": 0,
      "outputs": [
        {
          "output_type": "stream",
          "text": [
            "Ratings: (10, 9, 6, 5, 10, 8, 9, 6, 2)\n"
          ],
          "name": "stdout"
        }
      ]
    },
    {
      "cell_type": "code",
      "metadata": {
        "id": "AFIPj7JAVN9I",
        "colab_type": "code",
        "colab": {},
        "outputId": "051330f6-1d52-4c0d-a20e-ed19905587e4"
      },
      "source": [
        "Ratings=(10,9,6,5,10,8,9,6,2);\n",
        "print(\"Ratings:\", Ratings);\n",
        "print(\"Ratings is a \", type(Ratings));"
      ],
      "execution_count": 0,
      "outputs": [
        {
          "output_type": "stream",
          "text": [
            "Ratings: (10, 9, 6, 5, 10, 8, 9, 6, 2)\n",
            "Ratings is a  <class 'tuple'>\n"
          ],
          "name": "stdout"
        }
      ]
    },
    {
      "cell_type": "code",
      "metadata": {
        "id": "PPV0rdwxVN9R",
        "colab_type": "code",
        "colab": {},
        "outputId": "9f11233f-0d1f-46ae-9480-8928ffadd070"
      },
      "source": [
        "tuple1=('disco', 10,1.2);\n",
        "print(\"tuple1 =\", tuple1);\n",
        "print(\"The type of tuple1 is\", type(tuple1));"
      ],
      "execution_count": 0,
      "outputs": [
        {
          "output_type": "stream",
          "text": [
            "tuple1 = ('disco', 10, 1.2)\n",
            "The type of tuple1 is <class 'tuple'>\n"
          ],
          "name": "stdout"
        }
      ]
    },
    {
      "cell_type": "code",
      "metadata": {
        "id": "d7utpf43VN9W",
        "colab_type": "code",
        "colab": {},
        "outputId": "d68b27a6-1543-453c-80c4-737de05bf76c"
      },
      "source": [
        "tuple1=('disco', 10, 1.2);\n",
        "print(\"tuple1:\", tuple1);\n",
        "print(\"tuple1[0]:\", tuple1[0]);\n",
        "print(\"tuple1[1]:\", tuple1[1]);\n",
        "print(\"tuple1[2]:\", tuple1[2]);\n",
        "print(\"tuple1[-1]:\", tuple1[-1]);\n",
        "print(\"tuple1[-2]:\", tuple1[-2]);\n",
        "print(\"tuple1[-3]:\", tuple1[-3]);"
      ],
      "execution_count": 0,
      "outputs": [
        {
          "output_type": "stream",
          "text": [
            "tuple1: ('disco', 10, 1.2)\n",
            "tuple1[0]: disco\n",
            "tuple1[1]: 10\n",
            "tuple1[2]: 1.2\n",
            "tuple1[-1]: 1.2\n",
            "tuple1[-2]: 10\n",
            "tuple1[-3]: disco\n"
          ],
          "name": "stdout"
        }
      ]
    },
    {
      "cell_type": "code",
      "metadata": {
        "id": "E0Fl8DRRVN9b",
        "colab_type": "code",
        "colab": {},
        "outputId": "ef4e348a-4380-42bc-800a-2cc977f0cbed"
      },
      "source": [
        "tuple1=('disco', 10, 1.2);\n",
        "print(\"tuple1:\", tuple1);\n",
        "tuple2=tuple1+(\"hard rock\", 10);\n",
        "print(\"tuple2:\", tuple2);"
      ],
      "execution_count": 0,
      "outputs": [
        {
          "output_type": "stream",
          "text": [
            "tuple1: ('disco', 10, 1.2)\n",
            "tuple2: ('disco', 10, 1.2, 'hard rock', 10)\n"
          ],
          "name": "stdout"
        }
      ]
    },
    {
      "cell_type": "code",
      "metadata": {
        "jupyter": {
          "source_hidden": true
        },
        "id": "rKwac27hVN9h",
        "colab_type": "code",
        "colab": {},
        "outputId": "6ceaba52-6765-49bf-ce51-c740c0ae2198"
      },
      "source": [
        "tuple2=('disco', 10, 1.2, 'hard rock', 10);\n",
        "print(\"tuple2:\", tuple2);\n",
        "print(\"tuple2[0:3]:\", tuple2[0:3]);\n",
        "print(\"tuple2[3:5]:\", tuple2[3:5]);"
      ],
      "execution_count": 0,
      "outputs": [
        {
          "output_type": "stream",
          "text": [
            "tuple2: ('disco', 10, 1.2, 'hard rock', 10)\n",
            "tuple2[0:3]: ('disco', 10, 1.2)\n",
            "tuple2[3:5]: ('hard rock', 10)\n"
          ],
          "name": "stdout"
        }
      ]
    },
    {
      "cell_type": "code",
      "metadata": {
        "id": "U0Bd2OguVN9o",
        "colab_type": "code",
        "colab": {},
        "outputId": "7b39cd3b-5e91-400b-baa8-7727210eef1a"
      },
      "source": [
        "print(\"tupla:\",('disco', 10, 1.2, 'hard rock', 10))\n",
        "print(\"O tamanho da tupla é\", len(('disco', 10, 1.2, 'hard rock', 10)));"
      ],
      "execution_count": 0,
      "outputs": [
        {
          "output_type": "stream",
          "text": [
            "tupla: ('disco', 10, 1.2, 'hard rock', 10)\n",
            "O tamanho da tupla é 5\n"
          ],
          "name": "stdout"
        }
      ]
    },
    {
      "cell_type": "code",
      "metadata": {
        "id": "XhD55CdqVN9u",
        "colab_type": "code",
        "colab": {},
        "outputId": "bab58d26-9825-4a27-b3e6-0423da710fe8"
      },
      "source": [
        "tuple2=('disco', 10, 1.2, 'hard rock', 10);\n",
        "print(\"tuple2:\", tuple2);\n",
        "print(\"Tamanho da tupla \\\"tuple2\\\":\", len(tuple2));"
      ],
      "execution_count": 0,
      "outputs": [
        {
          "output_type": "stream",
          "text": [
            "tuple2: ('disco', 10, 1.2, 'hard rock', 10)\n",
            "Tamanho da tupla \"tuple2\": 5\n"
          ],
          "name": "stdout"
        }
      ]
    },
    {
      "cell_type": "code",
      "metadata": {
        "id": "DO3pUw4aVN91",
        "colab_type": "code",
        "colab": {},
        "outputId": "75c39f68-8852-4422-c863-51267f430419"
      },
      "source": [
        "Ratings=(10,9,6,5,10,8,9,6,2);\n",
        "print(\"Ratings:\",Ratings);\n",
        "RatingSorted=sorted(Ratings);\n",
        "print(\"RatingSorted:\",RatingSorted);"
      ],
      "execution_count": 0,
      "outputs": [
        {
          "output_type": "stream",
          "text": [
            "Ratings: (10, 9, 6, 5, 10, 8, 9, 6, 2)\n",
            "RatingSorted: [2, 5, 6, 6, 8, 9, 9, 10, 10]\n"
          ],
          "name": "stdout"
        }
      ]
    },
    {
      "cell_type": "code",
      "metadata": {
        "id": "E7LUkaZrVN-D",
        "colab_type": "code",
        "colab": {},
        "outputId": "5676590c-5b83-467a-a1fc-d6ee95a10090"
      },
      "source": [
        "Ratings=(10,9,6,5,10,8,9,6,2);\n",
        "print(\"Ratings:\",Ratings);\n",
        "RatingSorted=sorted(Ratings);\n",
        "print(\"RatingSorted:\",RatingSorted);"
      ],
      "execution_count": 0,
      "outputs": [
        {
          "output_type": "stream",
          "text": [
            "Ratings: (10, 9, 6, 5, 10, 8, 9, 6, 2)\n",
            "RatingSorted: [2, 5, 6, 6, 8, 9, 9, 10, 10]\n"
          ],
          "name": "stdout"
        }
      ]
    },
    {
      "cell_type": "code",
      "metadata": {
        "id": "ZnmnctGxVN-I",
        "colab_type": "code",
        "colab": {},
        "outputId": "96ce3218-d483-4fcf-9da4-7d55e6ff1612"
      },
      "source": [
        "NT=(1,2,(\"pop\",\"rock\"),(3,4),(\"disco\",(1,2)));\n",
        "print(\"NT:\", NT);\n",
        "print(\"The len of the tuple NT is \", len(NT));"
      ],
      "execution_count": 0,
      "outputs": [
        {
          "output_type": "stream",
          "text": [
            "NT: (1, 2, ('pop', 'rock'), (3, 4), ('disco', (1, 2)))\n",
            "The len of the tuple NT is  5\n"
          ],
          "name": "stdout"
        }
      ]
    },
    {
      "cell_type": "code",
      "metadata": {
        "id": "oOz0OEm9VN-P",
        "colab_type": "code",
        "colab": {},
        "outputId": "134f626a-483b-4fc4-bf8f-a00764eb5f87"
      },
      "source": [
        "NT=(1,2,(\"pop\",\"rock\"),(3,4),(\"disco\",(1,2)));\n",
        "print(\"NT:\", NT);\n",
        "print(\"\\nNT[2]:\", NT[2]);\n",
        "print(\"\\nNT[2][0]:\", NT[2][0]);\n",
        "print(\"NT[2][1]:\", NT[2][1]);\n",
        "print(\"\\nNT[2][0][0]:\", NT[2][0][0]);\n",
        "print(\"NT[2][0][1]:\", NT[2][0][1]);\n",
        "print(\"NT[2][0][2]:\", NT[2][0][2]);"
      ],
      "execution_count": 0,
      "outputs": [
        {
          "output_type": "stream",
          "text": [
            "NT: (1, 2, ('pop', 'rock'), (3, 4), ('disco', (1, 2)))\n",
            "\n",
            "NT[2]: ('pop', 'rock')\n",
            "\n",
            "NT[2][0]: pop\n",
            "NT[2][1]: rock\n",
            "\n",
            "NT[2][0][0]: p\n",
            "NT[2][0][1]: o\n",
            "NT[2][0][2]: p\n"
          ],
          "name": "stdout"
        }
      ]
    },
    {
      "cell_type": "code",
      "metadata": {
        "id": "l-LxhzejVN-T",
        "colab_type": "code",
        "colab": {},
        "outputId": "5465cc20-1649-49ce-ddc6-de79d71db098"
      },
      "source": [
        "NT=(1,2,(\"pop\",\"rock\"),(3,4),(\"disco\",(1,2)));\n",
        "print(\"NT:\", NT);\n",
        "help(NT);"
      ],
      "execution_count": 0,
      "outputs": [
        {
          "output_type": "stream",
          "text": [
            "NT: (1, 2, ('pop', 'rock'), (3, 4), ('disco', (1, 2)))\n",
            "Help on tuple object:\n",
            "\n",
            "class tuple(object)\n",
            " |  tuple() -> empty tuple\n",
            " |  tuple(iterable) -> tuple initialized from iterable's items\n",
            " |  \n",
            " |  If the argument is a tuple, the return value is the same object.\n",
            " |  \n",
            " |  Methods defined here:\n",
            " |  \n",
            " |  __add__(self, value, /)\n",
            " |      Return self+value.\n",
            " |  \n",
            " |  __contains__(self, key, /)\n",
            " |      Return key in self.\n",
            " |  \n",
            " |  __eq__(self, value, /)\n",
            " |      Return self==value.\n",
            " |  \n",
            " |  __ge__(self, value, /)\n",
            " |      Return self>=value.\n",
            " |  \n",
            " |  __getattribute__(self, name, /)\n",
            " |      Return getattr(self, name).\n",
            " |  \n",
            " |  __getitem__(self, key, /)\n",
            " |      Return self[key].\n",
            " |  \n",
            " |  __getnewargs__(...)\n",
            " |  \n",
            " |  __gt__(self, value, /)\n",
            " |      Return self>value.\n",
            " |  \n",
            " |  __hash__(self, /)\n",
            " |      Return hash(self).\n",
            " |  \n",
            " |  __iter__(self, /)\n",
            " |      Implement iter(self).\n",
            " |  \n",
            " |  __le__(self, value, /)\n",
            " |      Return self<=value.\n",
            " |  \n",
            " |  __len__(self, /)\n",
            " |      Return len(self).\n",
            " |  \n",
            " |  __lt__(self, value, /)\n",
            " |      Return self<value.\n",
            " |  \n",
            " |  __mul__(self, value, /)\n",
            " |      Return self*value.\n",
            " |  \n",
            " |  __ne__(self, value, /)\n",
            " |      Return self!=value.\n",
            " |  \n",
            " |  __new__(*args, **kwargs) from builtins.type\n",
            " |      Create and return a new object.  See help(type) for accurate signature.\n",
            " |  \n",
            " |  __repr__(self, /)\n",
            " |      Return repr(self).\n",
            " |  \n",
            " |  __rmul__(self, value, /)\n",
            " |      Return value*self.\n",
            " |  \n",
            " |  count(...)\n",
            " |      T.count(value) -> integer -- return number of occurrences of value\n",
            " |  \n",
            " |  index(...)\n",
            " |      T.index(value, [start, [stop]]) -> integer -- return first index of value.\n",
            " |      Raises ValueError if the value is not present.\n",
            "\n"
          ],
          "name": "stdout"
        }
      ]
    },
    {
      "cell_type": "markdown",
      "metadata": {
        "id": "oGWTJEG_VN-Z",
        "colab_type": "text"
      },
      "source": [
        "### Lists"
      ]
    },
    {
      "cell_type": "markdown",
      "metadata": {
        "id": "aZpBLINcVN-Z",
        "colab_type": "text"
      },
      "source": [
        "<ul style=\"list-style-type:circle;\">\n",
        "  <li>lists are ordered sequence</li>\n",
        "  <li>lists are written as comma-separated elements withn brackets</li>\n",
        "  <li>lists are mutable</li>\n",
        "  <li>lists can nesting other lists and tuples</li>\n",
        "  <li>lists cab be sliced</li>\n",
        "  <li>lists can be sorted</li>\n",
        "  <li>lists can be appended</li>\n",
        "  <li>list can be extended</li>\n",
        "</ul> "
      ]
    },
    {
      "cell_type": "markdown",
      "metadata": {
        "id": "FrYvAYvGVN-c",
        "colab_type": "text"
      },
      "source": [
        "### Defining a list"
      ]
    },
    {
      "cell_type": "code",
      "metadata": {
        "id": "lca7VH2CVN-c",
        "colab_type": "code",
        "colab": {},
        "outputId": "80d9583f-c840-4760-b4d6-d9436914a7d8"
      },
      "source": [
        "L=[\"Michael Jackson\", 10.1, 1982]\n",
        "print(\"L:\",L);"
      ],
      "execution_count": 0,
      "outputs": [
        {
          "output_type": "stream",
          "text": [
            "L: ['Michael Jackson', 10.1, 1982]\n"
          ],
          "name": "stdout"
        }
      ]
    },
    {
      "cell_type": "code",
      "metadata": {
        "id": "1XAUz6a5VN-f",
        "colab_type": "code",
        "colab": {},
        "outputId": "785d7a32-4796-477c-d83c-2b9707eaf68f"
      },
      "source": [
        "L=[\"Michael Jackson\", 10.1, 1982]\n",
        "print(\"L:\",L);\n",
        "print(\"L is a \", type(L));"
      ],
      "execution_count": 0,
      "outputs": [
        {
          "output_type": "stream",
          "text": [
            "L: ['Michael Jackson', 10.1, 1982]\n",
            "L is a  <class 'list'>\n"
          ],
          "name": "stdout"
        }
      ]
    },
    {
      "cell_type": "code",
      "metadata": {
        "id": "TRx9WUgxVN-j",
        "colab_type": "code",
        "colab": {},
        "outputId": "5a437b8b-1b9f-47d5-e340-1a85ac4163d5"
      },
      "source": [
        "L=[\"Michael Jackson\", 10.1, 1982];\n",
        "print(\"L:\",L);\n",
        "print(\"\\nL[0]:\",L[0]);\n",
        "print(\"L[1]:\",L[1]);\n",
        "print(\"L[2]:\",L[2]);\n",
        "print(\"\\nL[-1]:\",L[-1]);\n",
        "print(\"L[-2]:\",L[-2]);\n",
        "print(\"L[-3]:\",L[-3]);"
      ],
      "execution_count": 0,
      "outputs": [
        {
          "output_type": "stream",
          "text": [
            "L: ['Michael Jackson', 10.1, 1982]\n",
            "\n",
            "L[0]: Michael Jackson\n",
            "L[1]: 10.1\n",
            "L[2]: 1982\n",
            "\n",
            "L[-1]: 1982\n",
            "L[-2]: 10.1\n",
            "L[-3]: Michael Jackson\n"
          ],
          "name": "stdout"
        }
      ]
    },
    {
      "cell_type": "markdown",
      "metadata": {
        "id": "BRPqnyjaVN-p",
        "colab_type": "text"
      },
      "source": [
        "### Slicing a list"
      ]
    },
    {
      "cell_type": "code",
      "metadata": {
        "id": "NlSPjta-VN-u",
        "colab_type": "code",
        "colab": {},
        "outputId": "5b085d51-77d0-4d45-b7c1-dd361f8237b8"
      },
      "source": [
        "L=[\"Michael Jackson\", 10.1, 1982, \"MJ\", 1];\n",
        "print(\"L:\",L);\n",
        "print(\"L[3:5]:\",L[3:5]);"
      ],
      "execution_count": 0,
      "outputs": [
        {
          "output_type": "stream",
          "text": [
            "L: ['Michael Jackson', 10.1, 1982, 'MJ', 1]\n",
            "L[3:5]: ['MJ', 1]\n"
          ],
          "name": "stdout"
        }
      ]
    },
    {
      "cell_type": "markdown",
      "metadata": {
        "id": "_t-gF_iZVN-z",
        "colab_type": "text"
      },
      "source": [
        "### Len"
      ]
    },
    {
      "cell_type": "code",
      "metadata": {
        "id": "gqhCMR2fVN-1",
        "colab_type": "code",
        "colab": {},
        "outputId": "a2a4a23e-3c4d-44f3-cab2-2de9e5c8be2d"
      },
      "source": [
        "L=[\"Michael Jackson\", 10.1, 1982, \"MJ\", 1];\n",
        "print(\"L:\",L);\n",
        "print(\"The sizing of the list \\\"L\\\" is\",len(L));"
      ],
      "execution_count": 0,
      "outputs": [
        {
          "output_type": "stream",
          "text": [
            "L: ['Michael Jackson', 10.1, 1982, 'MJ', 1]\n",
            "The sizing of the list \"L\" is 5\n"
          ],
          "name": "stdout"
        }
      ]
    },
    {
      "cell_type": "markdown",
      "metadata": {
        "id": "9EXLyJGJVN-5",
        "colab_type": "text"
      },
      "source": [
        "### Concatenating lists"
      ]
    },
    {
      "cell_type": "code",
      "metadata": {
        "id": "rF8AurzKVN-6",
        "colab_type": "code",
        "colab": {},
        "outputId": "a665eadf-6590-4adf-b309-7298eca890f9"
      },
      "source": [
        "L=[\"Michael Jackson\", 10.1, 1982];\n",
        "print(\"L:\",L);\n",
        "L1=L+[\"pop\", 10];\n",
        "print(\"L1:\",L1);"
      ],
      "execution_count": 0,
      "outputs": [
        {
          "output_type": "stream",
          "text": [
            "L: ['Michael Jackson', 10.1, 1982]\n",
            "L1: ['Michael Jackson', 10.1, 1982, 'pop', 10]\n"
          ],
          "name": "stdout"
        }
      ]
    },
    {
      "cell_type": "markdown",
      "metadata": {
        "id": "gpysPUvkVN-_",
        "colab_type": "text"
      },
      "source": [
        "### Changing a existent list"
      ]
    },
    {
      "cell_type": "code",
      "metadata": {
        "id": "jYsjVscEVN_A",
        "colab_type": "code",
        "colab": {},
        "outputId": "b673a54d-6ac8-48f6-84c2-71c5ecafcb60"
      },
      "source": [
        "L=[\"Michael Jackson\", 10.1, 1982];\n",
        "print(\"L:\",L);\n",
        "L.extend([\"pop\", 10]);\n",
        "print(\"L extended:\",L);\n",
        "print(\"The sizing of changed list \\\"L\\\" is\", len(L));"
      ],
      "execution_count": 0,
      "outputs": [
        {
          "output_type": "stream",
          "text": [
            "L: ['Michael Jackson', 10.1, 1982]\n",
            "L extended: ['Michael Jackson', 10.1, 1982, 'pop', 10]\n",
            "The sizing of changed list \"L\" is 5\n"
          ],
          "name": "stdout"
        }
      ]
    },
    {
      "cell_type": "markdown",
      "metadata": {
        "id": "1SSb8pJwVN_L",
        "colab_type": "text"
      },
      "source": [
        "### Appending"
      ]
    },
    {
      "cell_type": "code",
      "metadata": {
        "id": "6_jtjr4iVN_N",
        "colab_type": "code",
        "colab": {},
        "outputId": "79562f5f-1205-4d37-8d53-bc9dac7f8089"
      },
      "source": [
        "L=[\"Michael Jackson\", 10.1, 1982];\n",
        "print(\"L:\",L);\n",
        "L.append([\"pop\", 10]);\n",
        "print(\"L appended:\",L);\n",
        "print(\"The sizing of appended list \\\"L\\\" is\", len(L));"
      ],
      "execution_count": 0,
      "outputs": [
        {
          "output_type": "stream",
          "text": [
            "L: ['Michael Jackson', 10.1, 1982]\n",
            "L appended: ['Michael Jackson', 10.1, 1982, ['pop', 10]]\n",
            "The sizing of appended list \"L\" is 4\n"
          ],
          "name": "stdout"
        }
      ]
    },
    {
      "cell_type": "markdown",
      "metadata": {
        "id": "3CPhun_LVN_X",
        "colab_type": "text"
      },
      "source": [
        "### Changing Elements"
      ]
    },
    {
      "cell_type": "code",
      "metadata": {
        "id": "cIJhDAWIVN_Z",
        "colab_type": "code",
        "colab": {},
        "outputId": "5a588a01-4ae8-4b3c-fd7b-919017ea3837"
      },
      "source": [
        "A=[\"disco\", 10, 1.2];\n",
        "print(\"A:\", A);\n",
        "A[0]=\"hard rock\";\n",
        "print(\"A:\", A);"
      ],
      "execution_count": 0,
      "outputs": [
        {
          "output_type": "stream",
          "text": [
            "A: ['disco', 10, 1.2]\n",
            "A: ['hard rock', 10, 1.2]\n"
          ],
          "name": "stdout"
        }
      ]
    },
    {
      "cell_type": "markdown",
      "metadata": {
        "id": "tjad4w35VN_b",
        "colab_type": "text"
      },
      "source": [
        "### Deleting Elements"
      ]
    },
    {
      "cell_type": "code",
      "metadata": {
        "id": "Rb_w1UoLVN_c",
        "colab_type": "code",
        "colab": {},
        "outputId": "4cb6d7d1-2b84-4448-ae0e-857f4fc42262"
      },
      "source": [
        "A=['hard rock', 10, 1.2];\n",
        "print(\"A:\", A);\n",
        "del(A[1]);\n",
        "print(\"A:\", A);"
      ],
      "execution_count": 0,
      "outputs": [
        {
          "output_type": "stream",
          "text": [
            "A: ['hard rock', 10, 1.2]\n",
            "A: ['hard rock', 1.2]\n"
          ],
          "name": "stdout"
        }
      ]
    },
    {
      "cell_type": "markdown",
      "metadata": {
        "id": "DtPCRQl9VN_g",
        "colab_type": "text"
      },
      "source": [
        "### Converting a string to a list"
      ]
    },
    {
      "cell_type": "code",
      "metadata": {
        "id": "8ypRW2SDVN_h",
        "colab_type": "code",
        "colab": {},
        "outputId": "20980933-a0d4-45db-99af-b92af822d98a"
      },
      "source": [
        "print('hard rock'.split());"
      ],
      "execution_count": 0,
      "outputs": [
        {
          "output_type": "stream",
          "text": [
            "['hard', 'rock']\n"
          ],
          "name": "stdout"
        }
      ]
    },
    {
      "cell_type": "code",
      "metadata": {
        "id": "hs2HvNzsVN_q",
        "colab_type": "code",
        "colab": {},
        "outputId": "c5cff66e-310a-4eb6-9a0b-702d0a1c18bd"
      },
      "source": [
        "print(\"A,B,C,D\".split(','));"
      ],
      "execution_count": 0,
      "outputs": [
        {
          "output_type": "stream",
          "text": [
            "['A', 'B', 'C', 'D']\n"
          ],
          "name": "stdout"
        }
      ]
    },
    {
      "cell_type": "markdown",
      "metadata": {
        "id": "mViSd3kwVN_s",
        "colab_type": "text"
      },
      "source": [
        "### Clonning an existent list"
      ]
    },
    {
      "cell_type": "code",
      "metadata": {
        "id": "g92i7_2uVN_t",
        "colab_type": "code",
        "colab": {},
        "outputId": "7726bcce-3f21-4e66-f897-758626d5f33e"
      },
      "source": [
        "A=[\"hard rock\", 10, 1.2];\n",
        "print(\"A:\",A);\n",
        "B=A;\n",
        "print(\"B:\",B);\n",
        "A[0]=\"progressive rock\";\n",
        "print(\"B:\",B);"
      ],
      "execution_count": 0,
      "outputs": [
        {
          "output_type": "stream",
          "text": [
            "A: ['hard rock', 10, 1.2]\n",
            "B: ['hard rock', 10, 1.2]\n",
            "B: ['progressive rock', 10, 1.2]\n"
          ],
          "name": "stdout"
        }
      ]
    },
    {
      "cell_type": "code",
      "metadata": {
        "id": "YRJ3sPdAVN_v",
        "colab_type": "code",
        "colab": {},
        "outputId": "acae44ef-9f7b-423f-c166-040181a4bf7a"
      },
      "source": [
        "A=[\"hard rock\", 10, 1.2];\n",
        "print(\"A:\",A);\n",
        "B=A[:]; # if you change after clonning an element from the original after cloning this change will not reflect in the clone\n",
        "A[0]=\"progressive rock\";\n",
        "print(\"A:\",A);\n",
        "print(\"B:\",B);"
      ],
      "execution_count": 0,
      "outputs": [
        {
          "output_type": "stream",
          "text": [
            "A: ['hard rock', 10, 1.2]\n",
            "A: ['progressive rock', 10, 1.2]\n",
            "B: ['hard rock', 10, 1.2]\n"
          ],
          "name": "stdout"
        }
      ]
    },
    {
      "cell_type": "code",
      "metadata": {
        "id": "fl8N4V5BVN_0",
        "colab_type": "code",
        "colab": {},
        "outputId": "8362b353-bc7b-4417-c48f-dd581897f986"
      },
      "source": [
        "A=[\"hard rock\", 10, 1.2];\n",
        "print(\"The list \\\"A\\\":\",A);\n",
        "help(A);"
      ],
      "execution_count": 0,
      "outputs": [
        {
          "output_type": "stream",
          "text": [
            "The list \"A\": ['hard rock', 10, 1.2]\n",
            "Help on list object:\n",
            "\n",
            "class list(object)\n",
            " |  list() -> new empty list\n",
            " |  list(iterable) -> new list initialized from iterable's items\n",
            " |  \n",
            " |  Methods defined here:\n",
            " |  \n",
            " |  __add__(self, value, /)\n",
            " |      Return self+value.\n",
            " |  \n",
            " |  __contains__(self, key, /)\n",
            " |      Return key in self.\n",
            " |  \n",
            " |  __delitem__(self, key, /)\n",
            " |      Delete self[key].\n",
            " |  \n",
            " |  __eq__(self, value, /)\n",
            " |      Return self==value.\n",
            " |  \n",
            " |  __ge__(self, value, /)\n",
            " |      Return self>=value.\n",
            " |  \n",
            " |  __getattribute__(self, name, /)\n",
            " |      Return getattr(self, name).\n",
            " |  \n",
            " |  __getitem__(...)\n",
            " |      x.__getitem__(y) <==> x[y]\n",
            " |  \n",
            " |  __gt__(self, value, /)\n",
            " |      Return self>value.\n",
            " |  \n",
            " |  __iadd__(self, value, /)\n",
            " |      Implement self+=value.\n",
            " |  \n",
            " |  __imul__(self, value, /)\n",
            " |      Implement self*=value.\n",
            " |  \n",
            " |  __init__(self, /, *args, **kwargs)\n",
            " |      Initialize self.  See help(type(self)) for accurate signature.\n",
            " |  \n",
            " |  __iter__(self, /)\n",
            " |      Implement iter(self).\n",
            " |  \n",
            " |  __le__(self, value, /)\n",
            " |      Return self<=value.\n",
            " |  \n",
            " |  __len__(self, /)\n",
            " |      Return len(self).\n",
            " |  \n",
            " |  __lt__(self, value, /)\n",
            " |      Return self<value.\n",
            " |  \n",
            " |  __mul__(self, value, /)\n",
            " |      Return self*value.\n",
            " |  \n",
            " |  __ne__(self, value, /)\n",
            " |      Return self!=value.\n",
            " |  \n",
            " |  __new__(*args, **kwargs) from builtins.type\n",
            " |      Create and return a new object.  See help(type) for accurate signature.\n",
            " |  \n",
            " |  __repr__(self, /)\n",
            " |      Return repr(self).\n",
            " |  \n",
            " |  __reversed__(...)\n",
            " |      L.__reversed__() -- return a reverse iterator over the list\n",
            " |  \n",
            " |  __rmul__(self, value, /)\n",
            " |      Return value*self.\n",
            " |  \n",
            " |  __setitem__(self, key, value, /)\n",
            " |      Set self[key] to value.\n",
            " |  \n",
            " |  __sizeof__(...)\n",
            " |      L.__sizeof__() -- size of L in memory, in bytes\n",
            " |  \n",
            " |  append(...)\n",
            " |      L.append(object) -> None -- append object to end\n",
            " |  \n",
            " |  clear(...)\n",
            " |      L.clear() -> None -- remove all items from L\n",
            " |  \n",
            " |  copy(...)\n",
            " |      L.copy() -> list -- a shallow copy of L\n",
            " |  \n",
            " |  count(...)\n",
            " |      L.count(value) -> integer -- return number of occurrences of value\n",
            " |  \n",
            " |  extend(...)\n",
            " |      L.extend(iterable) -> None -- extend list by appending elements from the iterable\n",
            " |  \n",
            " |  index(...)\n",
            " |      L.index(value, [start, [stop]]) -> integer -- return first index of value.\n",
            " |      Raises ValueError if the value is not present.\n",
            " |  \n",
            " |  insert(...)\n",
            " |      L.insert(index, object) -- insert object before index\n",
            " |  \n",
            " |  pop(...)\n",
            " |      L.pop([index]) -> item -- remove and return item at index (default last).\n",
            " |      Raises IndexError if list is empty or index is out of range.\n",
            " |  \n",
            " |  remove(...)\n",
            " |      L.remove(value) -> None -- remove first occurrence of value.\n",
            " |      Raises ValueError if the value is not present.\n",
            " |  \n",
            " |  reverse(...)\n",
            " |      L.reverse() -- reverse *IN PLACE*\n",
            " |  \n",
            " |  sort(...)\n",
            " |      L.sort(key=None, reverse=False) -> None -- stable sort *IN PLACE*\n",
            " |  \n",
            " |  ----------------------------------------------------------------------\n",
            " |  Data and other attributes defined here:\n",
            " |  \n",
            " |  __hash__ = None\n",
            "\n"
          ],
          "name": "stdout"
        }
      ]
    },
    {
      "cell_type": "markdown",
      "metadata": {
        "id": "WjI1-doqVN_3",
        "colab_type": "text"
      },
      "source": [
        "## Sets"
      ]
    },
    {
      "cell_type": "markdown",
      "metadata": {
        "id": "0jbOPYUuVN_3",
        "colab_type": "text"
      },
      "source": [
        "<ul style=\"list-style-type:circle;\">\n",
        "  <li>sets are a type of collection like tuples and lists</li>\n",
        "  <li>unlike lists and tuples sets are unordered (sets do not record element position)</li>\n",
        "  <li>sets only have unique elements (there is only one of a particular element in a set)</li>\n",
        "  <li>sets are written as comma-separated elements within curly brackets</li>\n",
        "</ul> "
      ]
    },
    {
      "cell_type": "markdown",
      "metadata": {
        "id": "EX0_c9SQVN_4",
        "colab_type": "text"
      },
      "source": [
        "### Deffining a SET"
      ]
    },
    {
      "cell_type": "code",
      "metadata": {
        "id": "7FGR5xKIVN_5",
        "colab_type": "code",
        "colab": {},
        "outputId": "1a47a2f9-09ee-4346-d93e-213add5063d1"
      },
      "source": [
        "Set1={\"pop\", \"rock\", \"soul\", \"hard rock\", \"rock\", \"R&B\", \"rock\", \"disco\"};\n",
        "print(\"Set1\", Set1);\n",
        "print(\"Set1 is a \", type(Set1));"
      ],
      "execution_count": 0,
      "outputs": [
        {
          "output_type": "stream",
          "text": [
            "Set1 {'hard rock', 'soul', 'rock', 'pop', 'R&B', 'disco'}\n",
            "Set1 is a  <class 'set'>\n"
          ],
          "name": "stdout"
        }
      ]
    },
    {
      "cell_type": "markdown",
      "metadata": {
        "id": "EmrKgCnuVN_7",
        "colab_type": "text"
      },
      "source": [
        "### Converting a LIST into a SET"
      ]
    },
    {
      "cell_type": "code",
      "metadata": {
        "id": "m0zGm9nxVN_8",
        "colab_type": "code",
        "colab": {},
        "outputId": "27df2a05-dda8-4611-8afd-5f7154a8f6dd"
      },
      "source": [
        "L=[\"pop\", \"rock\", \"soul\", \"hard rock\", \"rock\", \"R&B\", \"rock\", \"disco\"];\n",
        "print(\"L:\",L);\n",
        "print(\"L is a \", type(L));\n",
        "L=set(L);\n",
        "print(\"\\nL:\",L);\n",
        "print(\"L is a \", type(L));"
      ],
      "execution_count": 0,
      "outputs": [
        {
          "output_type": "stream",
          "text": [
            "L: ['pop', 'rock', 'soul', 'hard rock', 'rock', 'R&B', 'rock', 'disco']\n",
            "L is a  <class 'list'>\n",
            "\n",
            "L: {'hard rock', 'soul', 'rock', 'pop', 'R&B', 'disco'}\n",
            "L is a  <class 'set'>\n"
          ],
          "name": "stdout"
        }
      ]
    },
    {
      "cell_type": "markdown",
      "metadata": {
        "id": "rgGt4bjmVOAA",
        "colab_type": "text"
      },
      "source": [
        "### Adding an element to a SET"
      ]
    },
    {
      "cell_type": "code",
      "metadata": {
        "id": "JyAjDPNLVOAB",
        "colab_type": "code",
        "colab": {},
        "outputId": "833ddaf4-26ed-4821-e90d-2311a0ace645"
      },
      "source": [
        "A={\"Thriller\",\"Black in Black\",\"AC/DC\"};\n",
        "print(\"A:\",A);\n",
        "A.add(\"NSYSNC\");\n",
        "print(\"A:\",A);"
      ],
      "execution_count": 0,
      "outputs": [
        {
          "output_type": "stream",
          "text": [
            "A: {'Thriller', 'AC/DC', 'Black in Black'}\n",
            "A: {'Thriller', 'AC/DC', 'NSYSNC', 'Black in Black'}\n"
          ],
          "name": "stdout"
        }
      ]
    },
    {
      "cell_type": "markdown",
      "metadata": {
        "id": "KMJJxxiNVOAD",
        "colab_type": "text"
      },
      "source": [
        "### Remove an element from a SET"
      ]
    },
    {
      "cell_type": "code",
      "metadata": {
        "id": "VSMX1ZgKVOAE",
        "colab_type": "code",
        "colab": {},
        "outputId": "20fbc0a6-ef20-4eb5-c2d4-5eeab207f336"
      },
      "source": [
        "A={\"Thriller\",\"Black in Black\",\"AC/DC\",\"NSYSNC\"};\n",
        "print(\"A:\",A);\n",
        "A.remove(\"NSYSNC\");\n",
        "print(\"A:\",A);"
      ],
      "execution_count": 0,
      "outputs": [
        {
          "output_type": "stream",
          "text": [
            "A: {'Thriller', 'AC/DC', 'NSYSNC', 'Black in Black'}\n",
            "A: {'Thriller', 'AC/DC', 'Black in Black'}\n"
          ],
          "name": "stdout"
        }
      ]
    },
    {
      "cell_type": "markdown",
      "metadata": {
        "id": "bRjxr53pVOAG",
        "colab_type": "text"
      },
      "source": [
        "### Verifying an element of a SET"
      ]
    },
    {
      "cell_type": "code",
      "metadata": {
        "id": "mLS07wAaVOAG",
        "colab_type": "code",
        "colab": {},
        "outputId": "ec95528d-1d62-49ff-c165-2bc1eeb40fb9"
      },
      "source": [
        "A={\"Thriller\",\"Black in Black\",\"AC/DC\"};\n",
        "print(\"A:\",A);\n",
        "print(\"Is there 'AC/DC' in the set A\", \"AC/DC\" in A);\n",
        "print(\"Is there 'NSYNC' in the set A\", \"NSYSNC\" in A);"
      ],
      "execution_count": 0,
      "outputs": [
        {
          "output_type": "stream",
          "text": [
            "A: {'Thriller', 'AC/DC', 'Black in Black'}\n",
            "Is there 'AC/DC' in the set A True\n",
            "Is there 'NSYNC' in the set A False\n"
          ],
          "name": "stdout"
        }
      ]
    },
    {
      "cell_type": "markdown",
      "metadata": {
        "id": "Pv6jsxfzVOAJ",
        "colab_type": "text"
      },
      "source": [
        "### Verifying the intersection between two SETs"
      ]
    },
    {
      "cell_type": "code",
      "metadata": {
        "id": "T9YO7tsFVOAL",
        "colab_type": "code",
        "colab": {},
        "outputId": "c526eb8f-0543-4995-adc6-fe444824716b"
      },
      "source": [
        "albumSet1={\"AC/DC\",\"Black in Black\",\"Thriller\"};\n",
        "print(\"albumSet1:\",albumSet1);\n",
        "albumSet2={\"AC/DC\",\"Black in Black\",\"The Dark Side of the Moon\"};\n",
        "print(\"albumSet2:\",albumSet2);\n",
        "albumSet3=albumSet1 & albumSet2;\n",
        "print(\"The albumSet3 is the intersection of albumSet1 and albumSet2:\",albumSet3);"
      ],
      "execution_count": 0,
      "outputs": [
        {
          "output_type": "stream",
          "text": [
            "albumSet1: {'Thriller', 'AC/DC', 'Black in Black'}\n",
            "albumSet2: {'The Dark Side of the Moon', 'AC/DC', 'Black in Black'}\n",
            "The albumSet3 is the intersection of albumSet1 and albumSet2: {'AC/DC', 'Black in Black'}\n"
          ],
          "name": "stdout"
        }
      ]
    },
    {
      "cell_type": "markdown",
      "metadata": {
        "id": "R0mCOHnyVOAO",
        "colab_type": "text"
      },
      "source": [
        "### Union of two SETs"
      ]
    },
    {
      "cell_type": "code",
      "metadata": {
        "id": "jrR83AsgVOAO",
        "colab_type": "code",
        "colab": {},
        "outputId": "61d0deeb-40b0-4816-9290-b9300c34bf79"
      },
      "source": [
        "albumSet1={\"AC/DC\",\"Black in Black\",\"Thriller\"};\n",
        "print(\"albumSet1:\",albumSet1);\n",
        "albumSet2={\"AC/DC\",\"Black in Black\",\"The Dark Side of the Moon\"};\n",
        "print(\"albumSet2:\",albumSet2);\n",
        "albumSet3=albumSet1.union(albumSet2);\n",
        "print(\"The albumSet3 is the UNION of the albumSet1 and albumSet2:\",albumSet3);"
      ],
      "execution_count": 0,
      "outputs": [
        {
          "output_type": "stream",
          "text": [
            "albumSet1: {'Thriller', 'AC/DC', 'Black in Black'}\n",
            "albumSet2: {'The Dark Side of the Moon', 'AC/DC', 'Black in Black'}\n",
            "The albumSet3 is the UNION of the albumSet1 and albumSet2: {'Thriller', 'The Dark Side of the Moon', 'Black in Black', 'AC/DC'}\n"
          ],
          "name": "stdout"
        }
      ]
    },
    {
      "cell_type": "markdown",
      "metadata": {
        "id": "Ad538ngVVOAU",
        "colab_type": "text"
      },
      "source": [
        "### Subset of two SETs"
      ]
    },
    {
      "cell_type": "code",
      "metadata": {
        "id": "JCRehGHSVOAV",
        "colab_type": "code",
        "colab": {},
        "outputId": "8226ba4c-cdc6-4e6e-a559-751519ff22f0"
      },
      "source": [
        "albumSet1={\"AC/DC\",\"Black in Black\",\"Thriller\"};\n",
        "print(\"albumSet1:\",albumSet1);\n",
        "albumSet2={\"AC/DC\",\"Black in Black\"};\n",
        "print(\"\\nalbumSet2:\",albumSet2);\n",
        "print(\"Is albumSet2 a subset of albumSet1?:\", albumSet2.issubset(albumSet1));\n",
        "albumSet3={\"Led Zeppelin\",\"Black in Black\"};\n",
        "print(\"\\nalbumSet3:\",albumSet3);\n",
        "print(\"Is albumSet3 a subset of albumSet1?:\", albumSet3.issubset(albumSet1));"
      ],
      "execution_count": 0,
      "outputs": [
        {
          "output_type": "stream",
          "text": [
            "albumSet1: {'Thriller', 'AC/DC', 'Black in Black'}\n",
            "\n",
            "albumSet2: {'AC/DC', 'Black in Black'}\n",
            "Is albumSet2 a subset of albumSet1?: True\n",
            "\n",
            "albumSet3: {'Led Zeppelin', 'Black in Black'}\n",
            "Is albumSet3 a subset of albumSet1?: False\n"
          ],
          "name": "stdout"
        }
      ]
    },
    {
      "cell_type": "code",
      "metadata": {
        "id": "CZuNx9_mVOAc",
        "colab_type": "code",
        "colab": {},
        "outputId": "c91b55b5-4582-4db9-f505-27a30242be9f"
      },
      "source": [
        "albumSet1={\"AC/DC\",\"Black in Black\",\"Thriller\"};\n",
        "help(albumSet1);"
      ],
      "execution_count": 0,
      "outputs": [
        {
          "output_type": "stream",
          "text": [
            "Help on set object:\n",
            "\n",
            "class set(object)\n",
            " |  set() -> new empty set object\n",
            " |  set(iterable) -> new set object\n",
            " |  \n",
            " |  Build an unordered collection of unique elements.\n",
            " |  \n",
            " |  Methods defined here:\n",
            " |  \n",
            " |  __and__(self, value, /)\n",
            " |      Return self&value.\n",
            " |  \n",
            " |  __contains__(...)\n",
            " |      x.__contains__(y) <==> y in x.\n",
            " |  \n",
            " |  __eq__(self, value, /)\n",
            " |      Return self==value.\n",
            " |  \n",
            " |  __ge__(self, value, /)\n",
            " |      Return self>=value.\n",
            " |  \n",
            " |  __getattribute__(self, name, /)\n",
            " |      Return getattr(self, name).\n",
            " |  \n",
            " |  __gt__(self, value, /)\n",
            " |      Return self>value.\n",
            " |  \n",
            " |  __iand__(self, value, /)\n",
            " |      Return self&=value.\n",
            " |  \n",
            " |  __init__(self, /, *args, **kwargs)\n",
            " |      Initialize self.  See help(type(self)) for accurate signature.\n",
            " |  \n",
            " |  __ior__(self, value, /)\n",
            " |      Return self|=value.\n",
            " |  \n",
            " |  __isub__(self, value, /)\n",
            " |      Return self-=value.\n",
            " |  \n",
            " |  __iter__(self, /)\n",
            " |      Implement iter(self).\n",
            " |  \n",
            " |  __ixor__(self, value, /)\n",
            " |      Return self^=value.\n",
            " |  \n",
            " |  __le__(self, value, /)\n",
            " |      Return self<=value.\n",
            " |  \n",
            " |  __len__(self, /)\n",
            " |      Return len(self).\n",
            " |  \n",
            " |  __lt__(self, value, /)\n",
            " |      Return self<value.\n",
            " |  \n",
            " |  __ne__(self, value, /)\n",
            " |      Return self!=value.\n",
            " |  \n",
            " |  __new__(*args, **kwargs) from builtins.type\n",
            " |      Create and return a new object.  See help(type) for accurate signature.\n",
            " |  \n",
            " |  __or__(self, value, /)\n",
            " |      Return self|value.\n",
            " |  \n",
            " |  __rand__(self, value, /)\n",
            " |      Return value&self.\n",
            " |  \n",
            " |  __reduce__(...)\n",
            " |      Return state information for pickling.\n",
            " |  \n",
            " |  __repr__(self, /)\n",
            " |      Return repr(self).\n",
            " |  \n",
            " |  __ror__(self, value, /)\n",
            " |      Return value|self.\n",
            " |  \n",
            " |  __rsub__(self, value, /)\n",
            " |      Return value-self.\n",
            " |  \n",
            " |  __rxor__(self, value, /)\n",
            " |      Return value^self.\n",
            " |  \n",
            " |  __sizeof__(...)\n",
            " |      S.__sizeof__() -> size of S in memory, in bytes\n",
            " |  \n",
            " |  __sub__(self, value, /)\n",
            " |      Return self-value.\n",
            " |  \n",
            " |  __xor__(self, value, /)\n",
            " |      Return self^value.\n",
            " |  \n",
            " |  add(...)\n",
            " |      Add an element to a set.\n",
            " |      \n",
            " |      This has no effect if the element is already present.\n",
            " |  \n",
            " |  clear(...)\n",
            " |      Remove all elements from this set.\n",
            " |  \n",
            " |  copy(...)\n",
            " |      Return a shallow copy of a set.\n",
            " |  \n",
            " |  difference(...)\n",
            " |      Return the difference of two or more sets as a new set.\n",
            " |      \n",
            " |      (i.e. all elements that are in this set but not the others.)\n",
            " |  \n",
            " |  difference_update(...)\n",
            " |      Remove all elements of another set from this set.\n",
            " |  \n",
            " |  discard(...)\n",
            " |      Remove an element from a set if it is a member.\n",
            " |      \n",
            " |      If the element is not a member, do nothing.\n",
            " |  \n",
            " |  intersection(...)\n",
            " |      Return the intersection of two sets as a new set.\n",
            " |      \n",
            " |      (i.e. all elements that are in both sets.)\n",
            " |  \n",
            " |  intersection_update(...)\n",
            " |      Update a set with the intersection of itself and another.\n",
            " |  \n",
            " |  isdisjoint(...)\n",
            " |      Return True if two sets have a null intersection.\n",
            " |  \n",
            " |  issubset(...)\n",
            " |      Report whether another set contains this set.\n",
            " |  \n",
            " |  issuperset(...)\n",
            " |      Report whether this set contains another set.\n",
            " |  \n",
            " |  pop(...)\n",
            " |      Remove and return an arbitrary set element.\n",
            " |      Raises KeyError if the set is empty.\n",
            " |  \n",
            " |  remove(...)\n",
            " |      Remove an element from a set; it must be a member.\n",
            " |      \n",
            " |      If the element is not a member, raise a KeyError.\n",
            " |  \n",
            " |  symmetric_difference(...)\n",
            " |      Return the symmetric difference of two sets as a new set.\n",
            " |      \n",
            " |      (i.e. all elements that are in exactly one of the sets.)\n",
            " |  \n",
            " |  symmetric_difference_update(...)\n",
            " |      Update a set with the symmetric difference of itself and another.\n",
            " |  \n",
            " |  union(...)\n",
            " |      Return the union of sets as a new set.\n",
            " |      \n",
            " |      (i.e. all elements that are in either set.)\n",
            " |  \n",
            " |  update(...)\n",
            " |      Update a set with the union of itself and others.\n",
            " |  \n",
            " |  ----------------------------------------------------------------------\n",
            " |  Data and other attributes defined here:\n",
            " |  \n",
            " |  __hash__ = None\n",
            "\n"
          ],
          "name": "stdout"
        }
      ]
    },
    {
      "cell_type": "markdown",
      "metadata": {
        "id": "zArGCzKNVOAd",
        "colab_type": "text"
      },
      "source": [
        "## Dictionaries"
      ]
    },
    {
      "cell_type": "markdown",
      "metadata": {
        "id": "SZUw90BvVOAd",
        "colab_type": "text"
      },
      "source": [
        "<ul style=\"list-style-type:circle;\">\n",
        "  <li>dictionaries is a type of collection</li>\n",
        "  <li>List with indexes (key) and elements (values)</li>\n",
        "  <li>key is an index by label, it is a kind of address, do not need to be a number</li>\n",
        "  <li>values are simmilar to the element in a list and contain information</li>\n",
        "  <li>dictionaries are written as comma-separated elements within curly brackets</li>\n",
        "  <li>the keys have to be immutable and unique</li>\n",
        "  <li>the values can be immutable, mutable and duplicates</li>\n",
        "</ul> "
      ]
    },
    {
      "cell_type": "markdown",
      "metadata": {
        "id": "0SuOPNwiVOAe",
        "colab_type": "text"
      },
      "source": [
        "### Setting a dictionary"
      ]
    },
    {
      "cell_type": "code",
      "metadata": {
        "id": "iMR5VsVpVOAf",
        "colab_type": "code",
        "colab": {},
        "outputId": "0884af36-ea27-428f-faf0-9119eaa6f488"
      },
      "source": [
        "DICT={\"Daniel\":1977,\"Roberta\":1976,\"Nicole\":1999,\"Beatriz\":2007};\n",
        "print(\"DICT:\",DICT);\n",
        "print(\"The type of DICT is\",type(DICT));"
      ],
      "execution_count": 0,
      "outputs": [
        {
          "output_type": "stream",
          "text": [
            "DICT: {'Daniel': 1977, 'Roberta': 1976, 'Nicole': 1999, 'Beatriz': 2007}\n",
            "The type of DICT is <class 'dict'>\n"
          ],
          "name": "stdout"
        }
      ]
    },
    {
      "cell_type": "markdown",
      "metadata": {
        "id": "g_fhX3_ZVOAh",
        "colab_type": "text"
      },
      "source": [
        "### Searching in a dictionary"
      ]
    },
    {
      "cell_type": "code",
      "metadata": {
        "id": "muwElqn-VOAi",
        "colab_type": "code",
        "colab": {},
        "outputId": "534e820e-2f0a-40a4-c34f-0a1aca40331c"
      },
      "source": [
        "DICT={\"Daniel\":1977,\"Roberta\":1976,\"Nicole\":1999,\"Beatriz\":2007};\n",
        "print(\"DICT:\",DICT);\n",
        "print(\"For the key 'Daniel' the value is\",DICT[\"Daniel\"]);"
      ],
      "execution_count": 0,
      "outputs": [
        {
          "output_type": "stream",
          "text": [
            "DICT: {'Daniel': 1977, 'Roberta': 1976, 'Nicole': 1999, 'Beatriz': 2007}\n",
            "For the key 'Daniel' the value is 1977\n"
          ],
          "name": "stdout"
        }
      ]
    },
    {
      "cell_type": "markdown",
      "metadata": {
        "id": "wbcCs7gwVOAn",
        "colab_type": "text"
      },
      "source": [
        "### Add a key value to a dictionary"
      ]
    },
    {
      "cell_type": "code",
      "metadata": {
        "id": "nE86fcnPVOAo",
        "colab_type": "code",
        "colab": {},
        "outputId": "71cd106a-356d-482f-8c37-0c7863a147dd"
      },
      "source": [
        "DICT={\"Daniel\":1977,\"Roberta\":1976,\"Nicole\":1999,\"Beatriz\":2007};\n",
        "print(\"DICT:\",DICT);\n",
        "print(\"\\nAdding key value 'Fátima':1948 to dictionary DICT\");\n",
        "DICT[\"Fátima\"]=1948;\n",
        "print(\"DICT:\",DICT);"
      ],
      "execution_count": 0,
      "outputs": [
        {
          "output_type": "stream",
          "text": [
            "DICT: {'Daniel': 1977, 'Roberta': 1976, 'Nicole': 1999, 'Beatriz': 2007}\n",
            "\n",
            "Adding key value 'Fátima':1948 to dictionary DICT\n",
            "DICT: {'Daniel': 1977, 'Roberta': 1976, 'Nicole': 1999, 'Beatriz': 2007, 'Fátima': 1948}\n"
          ],
          "name": "stdout"
        }
      ]
    },
    {
      "cell_type": "markdown",
      "metadata": {
        "id": "L_8Qy7wCVOAp",
        "colab_type": "text"
      },
      "source": [
        "### Delete a key value from a dictionary"
      ]
    },
    {
      "cell_type": "code",
      "metadata": {
        "id": "elovzruCVOAp",
        "colab_type": "code",
        "colab": {},
        "outputId": "2d267df7-1ed8-456c-a036-e209d3f1ddbd"
      },
      "source": [
        "DICT={\"Daniel\":1977,\"Roberta\":1976,\"Nicole\":1999,\"Beatriz\":2007,\"Fátima\":1948};\n",
        "print(\"DICT:\",DICT);\n",
        "print(\"\\nDeleting key value 'Fátima':1948 from the dictionary DICT\");\n",
        "del(DICT[\"Fátima\"]);\n",
        "print(\"DICT:\",DICT);"
      ],
      "execution_count": 0,
      "outputs": [
        {
          "output_type": "stream",
          "text": [
            "DICT: {'Daniel': 1977, 'Roberta': 1976, 'Nicole': 1999, 'Beatriz': 2007, 'Fátima': 1948}\n",
            "\n",
            "Deleting key value 'Fátima':1948 from the dictionary DICT\n",
            "DICT: {'Daniel': 1977, 'Roberta': 1976, 'Nicole': 1999, 'Beatriz': 2007}\n"
          ],
          "name": "stdout"
        }
      ]
    },
    {
      "cell_type": "markdown",
      "metadata": {
        "id": "nluFKjbnVOAs",
        "colab_type": "text"
      },
      "source": [
        "### Verifying if a key value exists in a dictionary"
      ]
    },
    {
      "cell_type": "code",
      "metadata": {
        "id": "eg9gF6OSVOAt",
        "colab_type": "code",
        "colab": {},
        "outputId": "bf859d56-a443-4a86-8a1b-c67e80c3d8d7"
      },
      "source": [
        "DICT={\"Daniel\":1977,\"Roberta\":1976,\"Nicole\":1999,\"Beatriz\":2007};\n",
        "print(\"DICT:\",DICT);\n",
        "print(\"Is 'Daniel' a key in the dictionary DICT\",\"Daniel\" in DICT);\n",
        "print(\"Is 'Fátima' a key in the dictionary DICT\",\"Fátima\" in DICT);"
      ],
      "execution_count": 0,
      "outputs": [
        {
          "output_type": "stream",
          "text": [
            "DICT: {'Daniel': 1977, 'Roberta': 1976, 'Nicole': 1999, 'Beatriz': 2007}\n",
            "Is 'Daniel' a key in the dictionary DICT True\n",
            "Is 'Fátima' a key in the dictionary DICT False\n"
          ],
          "name": "stdout"
        }
      ]
    },
    {
      "cell_type": "markdown",
      "metadata": {
        "id": "Sc9BGo5nVOA8",
        "colab_type": "text"
      },
      "source": [
        "### Getting all the keys of a dictionary"
      ]
    },
    {
      "cell_type": "code",
      "metadata": {
        "id": "E3-ICR6sVOA-",
        "colab_type": "code",
        "colab": {},
        "outputId": "91f5107e-b700-4bed-bb90-73a19412fa00"
      },
      "source": [
        "DICT={\"Daniel\":1977,\"Roberta\":1976,\"Nicole\":1999,\"Beatriz\":2007};\n",
        "print(\"DICT:\",DICT);\n",
        "print(\"The keys of the dictionary DICT is\", DICT.keys());"
      ],
      "execution_count": 0,
      "outputs": [
        {
          "output_type": "stream",
          "text": [
            "DICT: {'Daniel': 1977, 'Roberta': 1976, 'Nicole': 1999, 'Beatriz': 2007}\n",
            "The keys of the dictionary DICT is dict_keys(['Daniel', 'Roberta', 'Nicole', 'Beatriz'])\n"
          ],
          "name": "stdout"
        }
      ]
    },
    {
      "cell_type": "markdown",
      "metadata": {
        "id": "9f3X1lP-VOBB",
        "colab_type": "text"
      },
      "source": [
        "### Getting all the values of a dictionary"
      ]
    },
    {
      "cell_type": "code",
      "metadata": {
        "id": "P5AprUhYVOBD",
        "colab_type": "code",
        "colab": {},
        "outputId": "a5643789-876b-4dfb-a9c0-1d03bb4ed63b"
      },
      "source": [
        "DICT={\"Daniel\":1977,\"Roberta\":1976,\"Nicole\":1999,\"Beatriz\":2007};\n",
        "print(\"DICT:\",DICT);\n",
        "print(\"The values of the dictionary DICT is\", DICT.values());"
      ],
      "execution_count": 0,
      "outputs": [
        {
          "output_type": "stream",
          "text": [
            "DICT: {'Daniel': 1977, 'Roberta': 1976, 'Nicole': 1999, 'Beatriz': 2007}\n",
            "The values of the dictionary DICT is dict_values([1977, 1976, 1999, 2007])\n"
          ],
          "name": "stdout"
        }
      ]
    },
    {
      "cell_type": "code",
      "metadata": {
        "id": "0xQZ8r0WVOBG",
        "colab_type": "code",
        "colab": {},
        "outputId": "96f59990-d572-48a1-c654-c3ef9d1d2864"
      },
      "source": [
        "DICT={\"Daniel\":1977,\"Roberta\":1976,\"Nicole\":1999,\"Beatriz\":2007};\n",
        "help(DICT);"
      ],
      "execution_count": 0,
      "outputs": [
        {
          "output_type": "stream",
          "text": [
            "Help on dict object:\n",
            "\n",
            "class dict(object)\n",
            " |  dict() -> new empty dictionary\n",
            " |  dict(mapping) -> new dictionary initialized from a mapping object's\n",
            " |      (key, value) pairs\n",
            " |  dict(iterable) -> new dictionary initialized as if via:\n",
            " |      d = {}\n",
            " |      for k, v in iterable:\n",
            " |          d[k] = v\n",
            " |  dict(**kwargs) -> new dictionary initialized with the name=value pairs\n",
            " |      in the keyword argument list.  For example:  dict(one=1, two=2)\n",
            " |  \n",
            " |  Methods defined here:\n",
            " |  \n",
            " |  __contains__(self, key, /)\n",
            " |      True if D has a key k, else False.\n",
            " |  \n",
            " |  __delitem__(self, key, /)\n",
            " |      Delete self[key].\n",
            " |  \n",
            " |  __eq__(self, value, /)\n",
            " |      Return self==value.\n",
            " |  \n",
            " |  __ge__(self, value, /)\n",
            " |      Return self>=value.\n",
            " |  \n",
            " |  __getattribute__(self, name, /)\n",
            " |      Return getattr(self, name).\n",
            " |  \n",
            " |  __getitem__(...)\n",
            " |      x.__getitem__(y) <==> x[y]\n",
            " |  \n",
            " |  __gt__(self, value, /)\n",
            " |      Return self>value.\n",
            " |  \n",
            " |  __init__(self, /, *args, **kwargs)\n",
            " |      Initialize self.  See help(type(self)) for accurate signature.\n",
            " |  \n",
            " |  __iter__(self, /)\n",
            " |      Implement iter(self).\n",
            " |  \n",
            " |  __le__(self, value, /)\n",
            " |      Return self<=value.\n",
            " |  \n",
            " |  __len__(self, /)\n",
            " |      Return len(self).\n",
            " |  \n",
            " |  __lt__(self, value, /)\n",
            " |      Return self<value.\n",
            " |  \n",
            " |  __ne__(self, value, /)\n",
            " |      Return self!=value.\n",
            " |  \n",
            " |  __new__(*args, **kwargs) from builtins.type\n",
            " |      Create and return a new object.  See help(type) for accurate signature.\n",
            " |  \n",
            " |  __repr__(self, /)\n",
            " |      Return repr(self).\n",
            " |  \n",
            " |  __setitem__(self, key, value, /)\n",
            " |      Set self[key] to value.\n",
            " |  \n",
            " |  __sizeof__(...)\n",
            " |      D.__sizeof__() -> size of D in memory, in bytes\n",
            " |  \n",
            " |  clear(...)\n",
            " |      D.clear() -> None.  Remove all items from D.\n",
            " |  \n",
            " |  copy(...)\n",
            " |      D.copy() -> a shallow copy of D\n",
            " |  \n",
            " |  fromkeys(iterable, value=None, /) from builtins.type\n",
            " |      Returns a new dict with keys from iterable and values equal to value.\n",
            " |  \n",
            " |  get(...)\n",
            " |      D.get(k[,d]) -> D[k] if k in D, else d.  d defaults to None.\n",
            " |  \n",
            " |  items(...)\n",
            " |      D.items() -> a set-like object providing a view on D's items\n",
            " |  \n",
            " |  keys(...)\n",
            " |      D.keys() -> a set-like object providing a view on D's keys\n",
            " |  \n",
            " |  pop(...)\n",
            " |      D.pop(k[,d]) -> v, remove specified key and return the corresponding value.\n",
            " |      If key is not found, d is returned if given, otherwise KeyError is raised\n",
            " |  \n",
            " |  popitem(...)\n",
            " |      D.popitem() -> (k, v), remove and return some (key, value) pair as a\n",
            " |      2-tuple; but raise KeyError if D is empty.\n",
            " |  \n",
            " |  setdefault(...)\n",
            " |      D.setdefault(k[,d]) -> D.get(k,d), also set D[k]=d if k not in D\n",
            " |  \n",
            " |  update(...)\n",
            " |      D.update([E, ]**F) -> None.  Update D from dict/iterable E and F.\n",
            " |      If E is present and has a .keys() method, then does:  for k in E: D[k] = E[k]\n",
            " |      If E is present and lacks a .keys() method, then does:  for k, v in E: D[k] = v\n",
            " |      In either case, this is followed by: for k in F:  D[k] = F[k]\n",
            " |  \n",
            " |  values(...)\n",
            " |      D.values() -> an object providing a view on D's values\n",
            " |  \n",
            " |  ----------------------------------------------------------------------\n",
            " |  Data and other attributes defined here:\n",
            " |  \n",
            " |  __hash__ = None\n",
            "\n"
          ],
          "name": "stdout"
        }
      ]
    },
    {
      "cell_type": "markdown",
      "metadata": {
        "id": "LVgYveHOVOBJ",
        "colab_type": "text"
      },
      "source": [
        "### What is the syntax to obtain the first element of the tuple: A=('a','b','c')"
      ]
    },
    {
      "cell_type": "code",
      "metadata": {
        "id": "DBrHAAnGVOBJ",
        "colab_type": "code",
        "colab": {},
        "outputId": "2bb469ac-b2ee-4e8c-d32c-e4f594838124"
      },
      "source": [
        "A=('a','b','c');\n",
        "print(\"A\",A);\n",
        "print(A[0]);"
      ],
      "execution_count": 0,
      "outputs": [
        {
          "output_type": "stream",
          "text": [
            "A ('a', 'b', 'c')\n",
            "a\n"
          ],
          "name": "stdout"
        }
      ]
    },
    {
      "cell_type": "markdown",
      "metadata": {
        "id": "qNtxPWV_VOBR",
        "colab_type": "text"
      },
      "source": [
        "### Consider the following Python Dictionary: Dict={\"A\":1,\"B\":\"2\",\"C\":[3,3,3],\"D\":(4,4,4),'E':5,'F':6}, what is the result of the following operation: Dict[\"D\"]"
      ]
    },
    {
      "cell_type": "code",
      "metadata": {
        "id": "GNtXES-zVOBR",
        "colab_type": "code",
        "colab": {},
        "outputId": "a251387e-0b99-43dc-ebd2-82c6bbe50daf"
      },
      "source": [
        "Dict={\"A\":1,\"B\":\"2\",\"C\":[3,3,3],\"D\":(4,4,4),'E':5,'F':6};\n",
        "print(\"Dict:\", Dict);\n",
        "print(\"Dict['D']:\", Dict['D']);"
      ],
      "execution_count": 0,
      "outputs": [
        {
          "output_type": "stream",
          "text": [
            "Dict: {'A': 1, 'B': '2', 'C': [3, 3, 3], 'D': (4, 4, 4), 'E': 5, 'F': 6}\n",
            "Dict['D']: (4, 4, 4)\n"
          ],
          "name": "stdout"
        }
      ]
    },
    {
      "cell_type": "code",
      "metadata": {
        "id": "_-r3ORlBVOBU",
        "colab_type": "code",
        "colab": {}
      },
      "source": [
        ""
      ],
      "execution_count": 0,
      "outputs": []
    }
  ]
}